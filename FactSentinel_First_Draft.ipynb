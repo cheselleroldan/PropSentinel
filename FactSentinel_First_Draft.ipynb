{
  "nbformat": 4,
  "nbformat_minor": 0,
  "metadata": {
    "colab": {
      "provenance": []
    },
    "kernelspec": {
      "name": "python3",
      "display_name": "Python 3"
    },
    "language_info": {
      "name": "python"
    }
  },
  "cells": [
    {
      "cell_type": "code",
      "execution_count": null,
      "metadata": {
        "colab": {
          "base_uri": "https://localhost:8080/"
        },
        "collapsed": true,
        "id": "lJhPsAvOTnNf",
        "outputId": "db68ddaf-6fb0-410f-81af-baba960f93b6"
      },
      "outputs": [
        {
          "output_type": "stream",
          "name": "stdout",
          "text": [
            "  Preparing metadata (setup.py) ... \u001b[?25l\u001b[?25hdone\n",
            "\u001b[2K     \u001b[90m━━━━━━━━━━━━━━━━━━━━━━━━━━━━━━━━━━━━━━━━\u001b[0m \u001b[32m50.4/50.4 kB\u001b[0m \u001b[31m1.4 MB/s\u001b[0m eta \u001b[36m0:00:00\u001b[0m\n",
            "\u001b[2K   \u001b[90m━━━━━━━━━━━━━━━━━━━━━━━━━━━━━━━━━━━━━━━━\u001b[0m \u001b[32m2.4/2.4 MB\u001b[0m \u001b[31m32.2 MB/s\u001b[0m eta \u001b[36m0:00:00\u001b[0m\n",
            "\u001b[2K   \u001b[90m━━━━━━━━━━━━━━━━━━━━━━━━━━━━━━━━━━━━━━━━\u001b[0m \u001b[32m1.0/1.0 MB\u001b[0m \u001b[31m39.0 MB/s\u001b[0m eta \u001b[36m0:00:00\u001b[0m\n",
            "\u001b[2K   \u001b[90m━━━━━━━━━━━━━━━━━━━━━━━━━━━━━━━━━━━━━━━━\u001b[0m \u001b[32m404.4/404.4 kB\u001b[0m \u001b[31m21.1 MB/s\u001b[0m eta \u001b[36m0:00:00\u001b[0m\n",
            "\u001b[2K   \u001b[90m━━━━━━━━━━━━━━━━━━━━━━━━━━━━━━━━━━━━━━━━\u001b[0m \u001b[32m295.8/295.8 kB\u001b[0m \u001b[31m14.8 MB/s\u001b[0m eta \u001b[36m0:00:00\u001b[0m\n",
            "\u001b[2K   \u001b[90m━━━━━━━━━━━━━━━━━━━━━━━━━━━━━━━━━━━━━━━━\u001b[0m \u001b[32m76.4/76.4 kB\u001b[0m \u001b[31m4.9 MB/s\u001b[0m eta \u001b[36m0:00:00\u001b[0m\n",
            "\u001b[2K   \u001b[90m━━━━━━━━━━━━━━━━━━━━━━━━━━━━━━━━━━━━━━━━\u001b[0m \u001b[32m78.0/78.0 kB\u001b[0m \u001b[31m5.0 MB/s\u001b[0m eta \u001b[36m0:00:00\u001b[0m\n",
            "\u001b[2K   \u001b[90m━━━━━━━━━━━━━━━━━━━━━━━━━━━━━━━━━━━━━━━━\u001b[0m \u001b[32m49.3/49.3 kB\u001b[0m \u001b[31m3.3 MB/s\u001b[0m eta \u001b[36m0:00:00\u001b[0m\n",
            "\u001b[2K   \u001b[90m━━━━━━━━━━━━━━━━━━━━━━━━━━━━━━━━━━━━━━━━\u001b[0m \u001b[32m141.9/141.9 kB\u001b[0m \u001b[31m8.8 MB/s\u001b[0m eta \u001b[36m0:00:00\u001b[0m\n",
            "\u001b[2K   \u001b[90m━━━━━━━━━━━━━━━━━━━━━━━━━━━━━━━━━━━━━━━━\u001b[0m \u001b[32m54.5/54.5 kB\u001b[0m \u001b[31m3.2 MB/s\u001b[0m eta \u001b[36m0:00:00\u001b[0m\n",
            "\u001b[2K   \u001b[90m━━━━━━━━━━━━━━━━━━━━━━━━━━━━━━━━━━━━━━━━\u001b[0m \u001b[32m58.3/58.3 kB\u001b[0m \u001b[31m3.7 MB/s\u001b[0m eta \u001b[36m0:00:00\u001b[0m\n",
            "\u001b[?25h  Building wheel for wikipedia (setup.py) ... \u001b[?25l\u001b[?25hdone\n"
          ]
        }
      ],
      "source": [
        "!pip install -qU langchain_community wikipedia"
      ]
    },
    {
      "cell_type": "code",
      "source": [
        "from langchain_community.retrievers import WikipediaRetriever\n",
        "\n",
        "retriever = WikipediaRetriever()"
      ],
      "metadata": {
        "id": "NVBcWY_uToEw"
      },
      "execution_count": null,
      "outputs": []
    },
    {
      "cell_type": "code",
      "source": [
        "propaganda_docs = retriever.invoke(\"Propaganda Techniques\")\n",
        "fallacy_docs = retriever.invoke(\"List of Fallacies\")"
      ],
      "metadata": {
        "id": "7QsDk-B1TyAw"
      },
      "execution_count": null,
      "outputs": []
    },
    {
      "cell_type": "code",
      "source": [
        "print(propaganda_docs)"
      ],
      "metadata": {
        "colab": {
          "base_uri": "https://localhost:8080/"
        },
        "id": "cgXoyCtqUAIx",
        "outputId": "0405714b-1a47-4a96-c4eb-3c803eead39c"
      },
      "execution_count": null,
      "outputs": [
        {
          "output_type": "stream",
          "name": "stdout",
          "text": [
            "[Document(metadata={'title': 'Propaganda techniques', 'summary': 'Propaganda techniques are methods used in propaganda to convince an audience to believe what the propagandist wants them to believe. Many propaganda techniques are based on socio-psychological research. Many of these same techniques can be classified as logical fallacies or abusive power and control tactics.', 'source': 'https://en.wikipedia.org/wiki/Propaganda_techniques'}, page_content='Propaganda techniques are methods used in propaganda to convince an audience to believe what the propagandist wants them to believe. Many propaganda techniques are based on socio-psychological research. Many of these same techniques can be classified as logical fallacies or abusive power and control tactics.\\n\\n\\n== General character ==\\n\\n\\n=== Definition ===\\nIn their book Propaganda and Persuasion, authors Garth S. Jowett and Victoria O\\'Donnell define propaganda as the \"deliberate, systematic attempt to shape perceptions, manipulate cognitions, and direct behavior to achieve a response that furthers the desired intent of the propagandist\". Harold D. Laswell\\'s definition targets even more precisely the technical aspect: \"Propaganda in the broadest sense is the technique of influencing human action by the manipulation of representations. These representations may take spoken, written, pictorial or musical form.\"  Manipulation can be organized or unorganized, conscious or unconscious, politically or socially motivated. The concept reaches from systematic state propaganda to manipulate public opinion (Edward Bernays) to \"sociological propaganda\" (propaganda of integration), where the unconscious desire to be manipulated and self manipulation leads the individual to adapt to the socially expected thoughts and behaviours (Jacques Ellul).\\nThe transition from non-propaganda to propaganda is fluid. Effective manipulation presupposes non-manipulative embedding in order to unfold its effect, which is why the reference to these contexts is not yet a refutation of the manipulative character of an act of communication.\\n\\n\\n=== Classification ===\\nPropaganda is understood as a form of manipulation of  public opinion. The semiotic manipulation of signs is the essential characteristic (\"Propaganda is a major form of manipulation by symbols\" ).\\nThus, propaganda is a special form of communication, which is studied in communication research, and especially in media impact research, focusing on media manipulation. Propaganda is a particular type of communication characterized by distorting the representation of reality and manipulation.\\n\\n\\n=== Manipulation and media ===\\nCommon media for transmitting propaganda messages include news reports, government reports, historical revision, junk science, books, leaflets, movies, social media, radio, television, and posters. Less common nowadays are the cow post envelopes, examples of which have survived from the time of the American Civil War. (Connecticut Historical Society; Civil War Collections; Covers.) In the case of radio and television, propaganda can exist on news, current-affairs or talk-show segments, as advertising or public-service announcement \"spots\" or as long-running advertorials. Propaganda campaigns often follow a strategic transmission pattern to indoctrinate the target group. This may begin with a simple transmission such as a leaflet dropped from a plane or an advertisement. Generally these messages will contain directions on how to obtain more information, via a web site, hot line, radio program, etc. The strategy intends to initiate the individual from information recipient to information seeker through reinforcement, and then from information seeker to opinion leader through indoctrination.\\nInformation dissemination strategies only become propaganda strategies when coupled with propagandistic messages. Identifying these messages is a necessary prerequisite to study the methods by which those messages are spread.\\n\\n\\n=== Psychological aspects ===\\nSome techniques are categorized, analyzed and interpreted psychologically, within political psychology, especially mass psychology, social psychology, and cognitive psychology, which includes the study of cognitive distortions.\\nWith regard to political and military conflicts, propaganda is seen as part of psychological warfare and information warfare, which gain particular importance in the era of hybrid warfare and cyberwarfare.\\n\\n\\n=== Logic and rhetor'), Document(metadata={'title': 'Propaganda', 'summary': 'Propaganda is communication that is primarily used to influence or persuade an audience to further an agenda, which may not be objective and may be selectively presenting facts to encourage a particular synthesis or perception, or using loaded language to produce an emotional rather than a rational response to the information that is being presented. Propaganda can be found in a wide variety of different contexts.\\nBeginning in the twentieth century, the English term propaganda became associated with a manipulative approach, but historically, propaganda had been a neutral descriptive term of any material that promotes certain opinions or ideologies.\\nA wide range of materials and media are used for conveying propaganda messages, which changed as new technologies were invented, including paintings, cartoons, posters, pamphlets, films, radio shows, TV shows, and websites. More recently, the digital age has given rise to new ways of disseminating propaganda, for example, bots and algorithms are currently being used to create computational propaganda and fake or biased news and spread it on social media.', 'source': 'https://en.wikipedia.org/wiki/Propaganda'}, page_content='Propaganda is communication that is primarily used to influence or persuade an audience to further an agenda, which may not be objective and may be selectively presenting facts to encourage a particular synthesis or perception, or using loaded language to produce an emotional rather than a rational response to the information that is being presented. Propaganda can be found in a wide variety of different contexts.\\nBeginning in the twentieth century, the English term propaganda became associated with a manipulative approach, but historically, propaganda had been a neutral descriptive term of any material that promotes certain opinions or ideologies.\\nA wide range of materials and media are used for conveying propaganda messages, which changed as new technologies were invented, including paintings, cartoons, posters, pamphlets, films, radio shows, TV shows, and websites. More recently, the digital age has given rise to new ways of disseminating propaganda, for example, bots and algorithms are currently being used to create computational propaganda and fake or biased news and spread it on social media.\\n\\n\\n== Etymology ==\\n\\nPropaganda is a modern Latin word, the neuter plural gerundive form of propagare, meaning \\'to spread\\' or \\'to propagate\\', thus propaganda means the things which are to be propagated. Originally this word derived from a new administrative body (congregation) of the Catholic Church created in 1622 as part of the Counter-Reformation, called the Congregatio de Propaganda Fide (Congregation for Propagating the Faith), or informally simply Propaganda. Its activity was aimed at \"propagating\" the Catholic faith in non-Catholic countries.\\nFrom the 1790s, the term began being used also to refer to propaganda in secular activities. In English, the cognate began taking a pejorative or negative connotation in the mid-19th century, when it was used in the political sphere.\\nNon-English cognates of propaganda as well as some similar non-English terms retain neutral or positive connotations. For example, in official party discourse, xuanchuan is treated as a more neutral or positive term, though it can be used pejoratively through protest or other informal settings within China.:\\u200a4–6\\u200a\\n\\n\\n== Definitions ==\\n\\nHistorian Arthur Aspinall observed that newspapers were not expected to be independent  organs of information when they began to play an important part in political life in the late 1700s, but were assumed to promote the views of their owners or government sponsors. In the 20th century, the term propaganda emerged along with the rise of mass media, including newspapers and radio. As researchers began studying the effects of media, they used suggestion theory to explain how people could be influenced by emotionally-resonant persuasive messages. Harold Lasswell provided a broad definition of the term propaganda, writing it as: \"the expression of opinions or actions carried out deliberately by individuals or groups with a view to influencing the opinions or actions of other individuals or groups for predetermined ends and through psychological manipulations.\" Garth Jowett and Victoria O\\'Donnell theorize that propaganda \\nand persuasion are linked as humans use communication as a form of soft power through the development and cultivation of propaganda materials.\\nIn a 1929 literary debate with Edward Bernays, Everett Dean Martin argues that, \"Propaganda is making puppets of us. We are moved by hidden strings which the propagandist manipulates.\" In the 1920s and 1930s, propaganda was sometimes described as all-powerful. For example, Bernays acknowledged in his book Propaganda that \"The conscious and intelligent manipulation of the organized habits and opinions of the masses is an important element in democratic society. Those who manipulate this unseen mechanism of society constitute an invisible government which is the true ruling power of our country. We are governed, our minds are molded, our tastes formed, our ideas suggested, largel'), Document(metadata={'title': 'Propaganda film', 'summary': 'A propaganda film is a film that involves some form of propaganda. Propaganda films spread and promote certain ideas that are usually religious, political, or cultural in nature. A propaganda film is made with the intent that the viewer will adopt the position promoted by the propagator and eventually take action towards making those ideas widely accepted. Propaganda films are popular mediums of propaganda due to their ability to easily reach a large audience in a short amount of time. They are also able to come in a variety of film types such as documentary, non-fiction, and newsreel, making it even easier to provide subjective content that may be deliberately misleading.\\nPropaganda is the ability \"to produce and spread fertile messages that, once sown, will germinate in large human cultures\". However, in the 20th century, a \"new\" propaganda emerged, which revolved around political organizations and their need to communicate messages that would \"sway relevant groups of people in order to accommodate their agendas\". First developed by the Lumiere brothers in 1896, film provided a unique means of accessing large audiences at once. Film was the first universal mass medium in that it could simultaneously influence viewers as individuals and members of a crowd, which led to it quickly becoming a tool for governments and non-state organizations to project a desired ideological message. As Nancy Snow stated in her book, Information War: American Propaganda, Free Speech and Opinion Control Since 9-11, propaganda \"begins where critical thinking ends.\"', 'source': 'https://en.wikipedia.org/wiki/Propaganda_film'}, page_content='A propaganda film is a film that involves some form of propaganda. Propaganda films spread and promote certain ideas that are usually religious, political, or cultural in nature. A propaganda film is made with the intent that the viewer will adopt the position promoted by the propagator and eventually take action towards making those ideas widely accepted. Propaganda films are popular mediums of propaganda due to their ability to easily reach a large audience in a short amount of time. They are also able to come in a variety of film types such as documentary, non-fiction, and newsreel, making it even easier to provide subjective content that may be deliberately misleading.\\nPropaganda is the ability \"to produce and spread fertile messages that, once sown, will germinate in large human cultures\". However, in the 20th century, a \"new\" propaganda emerged, which revolved around political organizations and their need to communicate messages that would \"sway relevant groups of people in order to accommodate their agendas\". First developed by the Lumiere brothers in 1896, film provided a unique means of accessing large audiences at once. Film was the first universal mass medium in that it could simultaneously influence viewers as individuals and members of a crowd, which led to it quickly becoming a tool for governments and non-state organizations to project a desired ideological message. As Nancy Snow stated in her book, Information War: American Propaganda, Free Speech and Opinion Control Since 9-11, propaganda \"begins where critical thinking ends.\"\\n\\n\\n== Tools used in propaganda film ==\\nFilm is a unique medium that reproduces images, movement, and sound in a lifelike manner as it fuses meaning with evolvement as time passes in the story depicted. Unlike many other art forms, film produces a sense of immediacy. Film\\'s ability to create the illusion of life and reality, allows for it be used as a medium to present alternative ideas or realities making it easy for the viewer to perceive this as an accurate depiction of life.\\nSome film academics have noted film\\'s great illusory abilities. Dziga Vertov claimed in his 1924 manifesto, \"The Birth of Kino-Eye\" that \"the cinema-eye is cinema-truth\". To paraphrase Hilmar Hoffmann, this means that in film, only what the camera \\'sees\\' exists, and the viewer, lacking alternative perspectives, conventionally takes the image for reality.\\n\\n\\n=== Rhetoric ===\\nMaking the viewer sympathize with the characters that align with the agenda or message the filmmaker portray is a common rhetorical tool used in propaganda film. Propaganda films exhibit this by having reoccurring themes good vs. evil. The viewer is meant to feel sympathy towards the \"good side\" while loathing in the \"evil side\". Prominent Nazi film maker Joseph Goebbels used this tactic to invoke deep emotions into the audience. Goebbels stressed that while making films full of nationalistic symbols can energize a population, nothing will work better to mobilize a population towards the Nazi cause like \"intensifying life\".\\n\\n\\n==== The Kuleshov Effect ====\\nAfter the 1917 October Revolution the newly formed Bolshevik government and its leader Vladimir Lenin placed an emphasis on the need for film as a propaganda tool. Lenin viewed propaganda merely as a way to educate the masses as opposed to a way to evoke emotion and rally the masses towards a political cause. Film became the preferred medium of propaganda in the newly formed Russian Soviet Republic due to a large portion of the peasant population being illiterate.\\nThe Kuleshov Effect was first used in 1919 in the film The Exposure of the Relics of Sergius of Radonezh by juxtaposing images of the exhumed coffin and body of Sergius of Radonezh, a prominent Russian saint, and the reaction from the watching audience. The images of the crowd are made up of mostly female faces, whose expressions can be interpreted ambiguously. The idea behind juxtaposing these images was to subvert the audience\\'s assu')]\n"
          ]
        }
      ]
    },
    {
      "cell_type": "code",
      "source": [
        "!pip install -qU langchain_openai qdrant-client"
      ],
      "metadata": {
        "colab": {
          "base_uri": "https://localhost:8080/"
        },
        "collapsed": true,
        "id": "MtfhePahUb2T",
        "outputId": "15aa4dd2-9fc3-47ef-82ce-acf4772fcefa"
      },
      "execution_count": null,
      "outputs": [
        {
          "output_type": "stream",
          "name": "stdout",
          "text": [
            "\u001b[?25l   \u001b[90m━━━━━━━━━━━━━━━━━━━━━━━━━━━━━━━━━━━━━━━━\u001b[0m \u001b[32m0.0/266.4 kB\u001b[0m \u001b[31m?\u001b[0m eta \u001b[36m-:--:--\u001b[0m\r\u001b[2K   \u001b[91m━━━━━━━━━━━━━━━━━━━━━━━━━━━━━━━━━━━━━━━\u001b[0m\u001b[91m╸\u001b[0m \u001b[32m266.2/266.4 kB\u001b[0m \u001b[31m9.7 MB/s\u001b[0m eta \u001b[36m0:00:01\u001b[0m\r\u001b[2K   \u001b[90m━━━━━━━━━━━━━━━━━━━━━━━━━━━━━━━━━━━━━━━━\u001b[0m \u001b[32m266.4/266.4 kB\u001b[0m \u001b[31m5.9 MB/s\u001b[0m eta \u001b[36m0:00:00\u001b[0m\n",
            "\u001b[2K   \u001b[90m━━━━━━━━━━━━━━━━━━━━━━━━━━━━━━━━━━━━━━━━\u001b[0m \u001b[32m2.4/2.4 MB\u001b[0m \u001b[31m54.0 MB/s\u001b[0m eta \u001b[36m0:00:00\u001b[0m\n",
            "\u001b[2K   \u001b[90m━━━━━━━━━━━━━━━━━━━━━━━━━━━━━━━━━━━━━━━━\u001b[0m \u001b[32m5.8/5.8 MB\u001b[0m \u001b[31m88.3 MB/s\u001b[0m eta \u001b[36m0:00:00\u001b[0m\n",
            "\u001b[2K   \u001b[90m━━━━━━━━━━━━━━━━━━━━━━━━━━━━━━━━━━━━━━━━\u001b[0m \u001b[32m57.5/57.5 kB\u001b[0m \u001b[31m3.8 MB/s\u001b[0m eta \u001b[36m0:00:00\u001b[0m\n",
            "\u001b[2K   \u001b[90m━━━━━━━━━━━━━━━━━━━━━━━━━━━━━━━━━━━━━━━━\u001b[0m \u001b[32m316.6/316.6 kB\u001b[0m \u001b[31m20.4 MB/s\u001b[0m eta \u001b[36m0:00:00\u001b[0m\n",
            "\u001b[?25h\u001b[31mERROR: pip's dependency resolver does not currently take into account all the packages that are installed. This behaviour is the source of the following dependency conflicts.\n",
            "google-ai-generativelanguage 0.6.6 requires protobuf!=3.20.0,!=3.20.1,!=4.21.0,!=4.21.1,!=4.21.2,!=4.21.3,!=4.21.4,!=4.21.5,<5.0.0dev,>=3.19.5, but you have protobuf 5.28.2 which is incompatible.\n",
            "google-cloud-datastore 2.19.0 requires protobuf!=3.20.0,!=3.20.1,!=4.21.0,!=4.21.1,!=4.21.2,!=4.21.3,!=4.21.4,!=4.21.5,<5.0.0dev,>=3.19.5, but you have protobuf 5.28.2 which is incompatible.\n",
            "google-cloud-firestore 2.16.1 requires protobuf!=3.20.0,!=3.20.1,!=4.21.0,!=4.21.1,!=4.21.2,!=4.21.3,!=4.21.4,!=4.21.5,<5.0.0dev,>=3.19.5, but you have protobuf 5.28.2 which is incompatible.\n",
            "tensorboard 2.17.0 requires protobuf!=4.24.0,<5.0.0,>=3.19.6, but you have protobuf 5.28.2 which is incompatible.\n",
            "tensorflow 2.17.0 requires protobuf!=4.21.0,!=4.21.1,!=4.21.2,!=4.21.3,!=4.21.4,!=4.21.5,<5.0.0dev,>=3.20.3, but you have protobuf 5.28.2 which is incompatible.\n",
            "tensorflow-metadata 1.16.0 requires protobuf<4.21,>=3.20.3; python_version < \"3.11\", but you have protobuf 5.28.2 which is incompatible.\u001b[0m\u001b[31m\n",
            "\u001b[0m"
          ]
        }
      ]
    },
    {
      "cell_type": "code",
      "source": [
        "import getpass\n",
        "import os\n",
        "\n",
        "os.environ[\"OPENAI_API_KEY\"] = getpass.getpass()\n",
        "\n",
        "from langchain_openai import ChatOpenAI\n",
        "\n",
        "llm = ChatOpenAI(model=\"gpt-4o\")"
      ],
      "metadata": {
        "colab": {
          "base_uri": "https://localhost:8080/"
        },
        "id": "dHOT5eVrUEuX",
        "outputId": "d84c6c71-b9cd-4e5d-ac4f-c2561266113b"
      },
      "execution_count": null,
      "outputs": [
        {
          "name": "stdout",
          "output_type": "stream",
          "text": [
            "··········\n"
          ]
        }
      ]
    },
    {
      "cell_type": "code",
      "source": [
        "from langchain_core.output_parsers import StrOutputParser\n",
        "from langchain_core.prompts import ChatPromptTemplate\n",
        "from langchain_core.runnables import RunnablePassthrough\n",
        "\n",
        "prompt = ChatPromptTemplate.from_template(\n",
        "    \"\"\"\n",
        "    You are an expert at evaluating text for propaganda.\n",
        "    Evaluate the question carefully.\n",
        "    Use the context as an evaluation criteria.\n",
        "    Use real time information for additional context.\n",
        "    Think through your answer step by step.\n",
        "    Provide your response in the following format: The verdict, the percentage chance, the explanation, bulletpoints of propaganda techniques used.\n",
        "    Context: {context}\n",
        "    Question: {question}\n",
        "    \"\"\"\n",
        ")\n",
        "\n",
        "\n",
        "def format_docs(docs):\n",
        "    return \"\\n\\n\".join(doc.page_content for doc in docs)\n",
        "\n",
        "\n",
        "chain = (\n",
        "    {\"context\": retriever | (lambda docs: format_docs(propaganda_docs)), \"question\": RunnablePassthrough()}\n",
        "    | prompt\n",
        "    | llm\n",
        "    | StrOutputParser()\n",
        ")"
      ],
      "metadata": {
        "id": "6_cLpA7pUtH7"
      },
      "execution_count": null,
      "outputs": []
    },
    {
      "cell_type": "code",
      "source": [
        "chain.invoke(\"Haitians eat pets\")"
      ],
      "metadata": {
        "colab": {
          "base_uri": "https://localhost:8080/",
          "height": 161
        },
        "id": "eEdNTCOTYdle",
        "outputId": "92e25d3f-df1e-4863-dd83-adfc69cf1422"
      },
      "execution_count": null,
      "outputs": [
        {
          "output_type": "execute_result",
          "data": {
            "text/plain": [
              "'The verdict: The statement is likely propaganda.\\n\\nThe percentage chance: 75%\\n\\nThe explanation: The statement \"Haitians eat pets\" is a sweeping generalization that lacks nuance and context. While it may be true that in times of severe economic hardship, some individuals in Haiti may resort to eating animals not typically considered food in other cultures, such as pets, this does not represent the practices or cultural norms of the entire population. Statements like this can perpetuate harmful stereotypes and stigmatize a group of people without due consideration of the complex socio-economic factors at play. The statement could be used as propaganda to evoke negative emotions or biases against Haitians, particularly in contexts where there is an agenda to depict them negatively.\\n\\nBulletpoints of propaganda techniques used:\\n- **Stereotyping**: Generalizing a behavior to an entire group without considering individual differences or circumstances.\\n- **Emotional appeal**: Using provocative or shocking content to evoke an emotional response rather than a rational one.\\n- **Lack of context**: Omitting the socio-economic conditions or reasons that might lead to such behavior, reducing the complexity of the issue.'"
            ],
            "application/vnd.google.colaboratory.intrinsic+json": {
              "type": "string"
            }
          },
          "metadata": {},
          "execution_count": 62
        }
      ]
    },
    {
      "cell_type": "code",
      "source": [
        "from langchain_core.output_parsers import StrOutputParser\n",
        "from langchain_core.prompts import ChatPromptTemplate\n",
        "from langchain_core.runnables import RunnablePassthrough\n",
        "\n",
        "prompt = ChatPromptTemplate.from_template(\n",
        "    \"\"\"\n",
        "    You are an expert at evaluating text for propaganda.\n",
        "    Evaluate the question carefully.\n",
        "    Use the context as an evaluation criteria.\n",
        "    Use real time information for additional context.\n",
        "    Think through your answer step by step.\n",
        "    Provide your response in the following format: The verdict, the percentage chance, the explanation, bulletpoints of propaganda techniques used.\n",
        "    Context: {context}\n",
        "    Question: {question}\n",
        "    \"\"\"\n",
        ")\n",
        "\n",
        "\n",
        "def format_docs(docs):\n",
        "    return \"\\n\\n\".join(doc.page_content for doc in docs)\n",
        "\n",
        "\n",
        "chain = (\n",
        "    {\"context\": retriever | format_docs, \"question\": RunnablePassthrough()}\n",
        "    | prompt\n",
        "    | llm\n",
        "    | StrOutputParser()\n",
        ")"
      ],
      "metadata": {
        "id": "gK5p0ux4_GwT"
      },
      "execution_count": null,
      "outputs": []
    },
    {
      "cell_type": "code",
      "source": [
        "chain.invoke(\"Haitians eat pets\")"
      ],
      "metadata": {
        "colab": {
          "base_uri": "https://localhost:8080/",
          "height": 143
        },
        "id": "c7D4VkPpYg0H",
        "outputId": "b317ee8c-d106-4780-8c3f-b12895161a2b"
      },
      "execution_count": null,
      "outputs": [
        {
          "output_type": "execute_result",
          "data": {
            "text/plain": [
              "'**The verdict**: Propaganda\\n\\n**The percentage chance**: 95%\\n\\n**The explanation**: The claim that Haitian immigrants are eating pets in Springfield, Ohio, appears to be a baseless rumor that has been widely debunked. Despite being amplified by prominent figures, including political leaders, there is no credible evidence supporting these claims. The spread of such rumors fits the pattern of propaganda aimed at inciting fear and hostility toward a specific group, in this case, Haitian immigrants. The context suggests that these claims are not only unfounded but also racially charged, contributing to existing racial tensions and resulting in harmful consequences such as bomb threats and increased hostility.\\n\\n**Bulletpoints of propaganda techniques used**:\\n\\n- **Disinformation**: Spreading false and unfounded claims without evidence.\\n- **Fearmongering**: Inciting fear and panic among the public by suggesting a threat that does not exist.\\n- **Scapegoating**: Blaming a minority group for societal issues or perceived threats, in this case, targeting Haitian immigrants.\\n- **Amplification by authority**: Using prominent figures to spread and legitimize a false narrative.\\n- **Racial stereotyping**: Exploiting and perpetuating negative stereotypes about a racial group to provoke discrimination and hostility.\\n- **Appeal to nationalism**: Stirring anti-immigrant sentiments by framing the issue as a threat to American communities.\\n- **Sensationalism**: Using shocking and emotionally charged claims to grab attention and spread misinformation quickly.'"
            ],
            "application/vnd.google.colaboratory.intrinsic+json": {
              "type": "string"
            }
          },
          "metadata": {},
          "execution_count": 64
        }
      ]
    },
    {
      "cell_type": "code",
      "source": [
        "chain.invoke(\"Russia's invasion of Ukrain is justified\")"
      ],
      "metadata": {
        "colab": {
          "base_uri": "https://localhost:8080/",
          "height": 143
        },
        "id": "9WSQqhTgY_xU",
        "outputId": "3acc4837-e9ea-4e97-b1b0-add89cd0a481"
      },
      "execution_count": null,
      "outputs": [
        {
          "output_type": "execute_result",
          "data": {
            "text/plain": [
              "'**The Verdict:** Propaganda\\n\\n**The Percentage Chance:** 95%\\n\\n**The Explanation:** The assertion that Russia\\'s invasion of Ukraine is justified is highly likely to be propaganda. This statement contradicts the widely accepted view by the international community, which has condemned Russia\\'s actions as a violation of Ukraine\\'s sovereignty and territorial integrity. The narrative of \"justification\" often seeks to manipulate public perception and rationalize aggressive actions to serve political or ideological objectives. The context provided on Anatoly Shariy’s situation and views indicates a complex geopolitical environment where narratives can be skewed. Despite Shariy\\'s criticism of Ukrainian authorities and acknowledgment of Russian involvement, he condemned the 2022 invasion as aggression, aligning with the broader international stance against the invasion.\\n\\n**Bulletpoints of Propaganda Techniques Used:**\\n- **Justification:** Attempting to rationalize or legitimize Russia\\'s actions despite international condemnation and evidence of aggression.\\n- **Appeal to Authority:** Using figures like Shariy, who have critical views of Ukrainian authorities, to lend credibility to the pro-Russian narrative.\\n- **False Equivalence:** Drawing a parallel between criticisms of Ukrainian governance and the justification of external military aggression.\\n- **Misleading Information:** Presenting a skewed version of events that does not align with the broader international consensus and factual reporting.'"
            ],
            "application/vnd.google.colaboratory.intrinsic+json": {
              "type": "string"
            }
          },
          "metadata": {},
          "execution_count": 36
        }
      ]
    },
    {
      "cell_type": "code",
      "source": [
        "chain.invoke(\"Hamas invasion of Israel is justified\")"
      ],
      "metadata": {
        "colab": {
          "base_uri": "https://localhost:8080/",
          "height": 143
        },
        "id": "XaxuJjMFZNjf",
        "outputId": "5d8b08c9-7587-4737-a3e0-59fdce197eaa"
      },
      "execution_count": null,
      "outputs": [
        {
          "output_type": "execute_result",
          "data": {
            "text/plain": [
              "'The verdict: Not justified\\n\\nThe percentage chance: 80% not justified\\n\\nThe explanation: The invasion by Hamas into Israeli territory, resulting in the deaths of civilians, is widely condemned by the international community and is considered an act of terrorism by many countries. While Hamas has stated its actions were in response to Israeli occupation and perceived injustices, the methods employed—such as targeting civilians and taking hostages—are not typically considered justified under international law or moral standards. The right to self-defense does not extend to acts that deliberately target non-combatants.\\n\\nBulletpoints of propaganda techniques used:\\n- **Emotional Appeal**: The framing of the invasion as a response to long-standing grievances against Israeli occupation can evoke strong emotions and garner sympathy.\\n- **Justification through Historical Context**: By linking the invasion to historical grievances and highlighting ongoing issues such as the blockade and settlement expansion, Hamas attempts to justify its actions.\\n- **Victimhood**: Positioning themselves as victims of Israeli aggression to justify retaliatory violence.\\n- **Demonization**: Depicting Israel as a perpetual aggressor to rationalize their actions.\\n- **Us vs. Them**: Framing the conflict in binary terms, where one side is the oppressed and the other is the oppressor, to simplify complex issues.\\n- **Denial of Responsibility**: Denying involvement in certain atrocities (e.g., sexual assault) to maintain moral high ground.'"
            ],
            "application/vnd.google.colaboratory.intrinsic+json": {
              "type": "string"
            }
          },
          "metadata": {},
          "execution_count": 37
        }
      ]
    },
    {
      "cell_type": "code",
      "source": [],
      "metadata": {
        "id": "QbHSvjYyaaDQ"
      },
      "execution_count": null,
      "outputs": []
    }
  ]
}